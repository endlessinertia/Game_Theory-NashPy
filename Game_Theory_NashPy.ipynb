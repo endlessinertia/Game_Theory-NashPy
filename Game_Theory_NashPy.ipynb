{
 "cells": [
  {
   "cell_type": "markdown",
   "metadata": {},
   "source": [
    "# Tutorial on NashPy for Nash Equilibrium and Strategic Domination\n",
    "### _Gabriele Sottocornola_ \n",
    "Game Theory, Free University of Bozen-Bolzano"
   ]
  },
  {
   "cell_type": "code",
   "execution_count": null,
   "metadata": {
    "collapsed": true
   },
   "outputs": [],
   "source": [
    "#Libraries import\n",
    "import nashpy\n",
    "import numpy as np"
   ]
  },
  {
   "cell_type": "markdown",
   "metadata": {},
   "source": [
    "## Game creation"
   ]
  },
  {
   "cell_type": "markdown",
   "metadata": {},
   "source": [
    "* NashPy supports both zero-sum and common payoff games with 2 players (not more).\n",
    "* A game is defined by means of the two players payoff matrices, as they are represented in the combined payoff matrix\n",
    "* The creation of a game support numpy arrays for the definition of the payoffs"
   ]
  },
  {
   "cell_type": "code",
   "execution_count": null,
   "metadata": {
    "collapsed": true
   },
   "outputs": [],
   "source": [
    "def prisoner_dilemma_game():\n",
    "    a_payoff = np.array([[2, 5], [0, 4]])\n",
    "    b_payoff = np.array([[2, 0], [5, 4]])\n",
    "    return nashpy.Game(a_payoff, b_payoff)"
   ]
  },
  {
   "cell_type": "code",
   "execution_count": null,
   "metadata": {
    "collapsed": true
   },
   "outputs": [],
   "source": [
    "def modified_prisoner_dilemma_game():\n",
    "    a_payoff = np.array([[2, 5], [0, 5]])\n",
    "    b_payoff = np.array([[2, 0], [5, 4]])\n",
    "    return nashpy.Game(a_payoff, b_payoff)"
   ]
  },
  {
   "cell_type": "code",
   "execution_count": null,
   "metadata": {
    "collapsed": true
   },
   "outputs": [],
   "source": [
    "def coordination_game():\n",
    "    a_payoff = np.array([[2, 0], [0, 1]])\n",
    "    b_payoff = np.array([[1, 0], [0, 2]])\n",
    "    return nashpy.Game(a_payoff, b_payoff)"
   ]
  },
  {
   "cell_type": "code",
   "execution_count": null,
   "metadata": {
    "collapsed": true
   },
   "outputs": [],
   "source": [
    "def chicken_game():\n",
    "    a_payoff = np.array([[0, 8], [1, 5]])\n",
    "    b_payoff = np.array([[0, 1], [8, 5]])\n",
    "    return nashpy.Game(a_payoff, b_payoff)"
   ]
  },
  {
   "cell_type": "code",
   "execution_count": null,
   "metadata": {
    "collapsed": true
   },
   "outputs": [],
   "source": [
    "def matching_pennies_game():\n",
    "    zs_payoff = np.array([[1, -1], [-1, 1]])\n",
    "    return nashpy.Game(zs_payoff)"
   ]
  },
  {
   "cell_type": "code",
   "execution_count": null,
   "metadata": {
    "collapsed": true
   },
   "outputs": [],
   "source": [
    "def rock_paper_scissor_game():\n",
    "    zs_payoff = np.array([[0, -1, 1], [1, 0, -1], [-1, 1, 0]])\n",
    "    return nashpy.Game(zs_payoff)"
   ]
  },
  {
   "cell_type": "code",
   "execution_count": null,
   "metadata": {
    "collapsed": true
   },
   "outputs": [],
   "source": [
    "def domination_elimination_game():\n",
    "    a_payoff = np.array([[10, 5, 3], [0, 4, 6], [2, 3, 2]])\n",
    "    b_payoff = np.array([[4, 3, 2], [1, 6, 0], [1, 5, 8]])\n",
    "    return nashpy.Game(a_payoff, b_payoff)"
   ]
  },
  {
   "cell_type": "markdown",
   "metadata": {},
   "source": [
    "## Utility computation"
   ]
  },
  {
   "cell_type": "markdown",
   "metadata": {},
   "source": [
    "* Utilities can be computed by passing the vectors which represent the mixed strategy of each player - i.e. the distribution over the set of pure strategies for each player\n",
    "* Utilities for both player are accessed as a vector index of the game object - Game(row_strategy, column_strategy) : return (row_utility, column_utility)\n",
    "* No constraint in the library for inconsistent strategy definition (e.g. sum(strategy_vector) > 1)"
   ]
  },
  {
   "cell_type": "code",
   "execution_count": null,
   "metadata": {},
   "outputs": [],
   "source": [
    "#create the game of prisoner dilemma\n",
    "game = prisoner_dilemma_game()\n",
    "game"
   ]
  },
  {
   "cell_type": "code",
   "execution_count": null,
   "metadata": {},
   "outputs": [],
   "source": [
    "#both players select their first strategy (pure strategy utility)\n",
    "row_strategy = [1, 0]\n",
    "column_strategy = [1, 0]\n",
    "utility = game[row_strategy, column_strategy]\n",
    "utility"
   ]
  },
  {
   "cell_type": "code",
   "execution_count": null,
   "metadata": {},
   "outputs": [],
   "source": [
    "#both players select a uniform random strategy (mixed strategy utility)\n",
    "row_strategy = [.5, .5]\n",
    "column_strategy = [.5, .5]\n",
    "utility = game[row_strategy, column_strategy]\n",
    "utility"
   ]
  },
  {
   "cell_type": "markdown",
   "metadata": {},
   "source": [
    "## Different algorithms for Nash Equilibrium"
   ]
  },
  {
   "cell_type": "markdown",
   "metadata": {},
   "source": [
    "* 3 different implementations of algorithms to find (all) the mixed Nash Equilibria of a game (Nisan et al., 2007):\n",
    "    - ***Support enumeration***: Solve linear equation constraints over all possible games\n",
    "    - ***Vertex enumeration***: Check for best response polytopes\n",
    "    - ***Lemke Howson***: Based on integer pivoting and best response polytopes (not guarantee to find all equilibria)\n",
    "* The functions return an iterator over the set of (all) equilibria\n",
    "* Each equilibrium is a tuple with the pair of mixed strategies for the 2 players\n"
   ]
  },
  {
   "cell_type": "code",
   "execution_count": null,
   "metadata": {},
   "outputs": [],
   "source": [
    "game = matching_pennies_game()\n",
    "game"
   ]
  },
  {
   "cell_type": "code",
   "execution_count": null,
   "metadata": {},
   "outputs": [],
   "source": [
    "#Equilibria found by Support enumeration\n",
    "for eq in game.support_enumeration():\n",
    "    print(eq)"
   ]
  },
  {
   "cell_type": "code",
   "execution_count": null,
   "metadata": {},
   "outputs": [],
   "source": [
    "#Equilibria found by Vertex enumeration\n",
    "for eq in game.vertex_enumeration():\n",
    "    print(eq)"
   ]
  },
  {
   "cell_type": "code",
   "execution_count": null,
   "metadata": {},
   "outputs": [],
   "source": [
    "#Equilibria found by Lemke Howson\n",
    "for eq in game.lemke_howson_enumeration():\n",
    "    print(eq)"
   ]
  },
  {
   "cell_type": "markdown",
   "metadata": {
    "collapsed": true
   },
   "source": [
    "## Dominant strategies"
   ]
  },
  {
   "cell_type": "markdown",
   "metadata": {},
   "source": [
    "Functionalities to check if a specific strategy for a player is (strictly or weakly) dominated by other strategies"
   ]
  },
  {
   "cell_type": "code",
   "execution_count": null,
   "metadata": {},
   "outputs": [],
   "source": [
    "def get_payoff_matrix(game, player_index):\n",
    "    '''Helper function to return the payoff matrix of a given player'''\n",
    "    payoff_matrix = game.payoff_matrices[player_index]\n",
    "    if player_index == 0:\n",
    "        return payoff_matrix\n",
    "    elif player_index == 1:\n",
    "        return payoff_matrix.T\n",
    "    \n",
    "def get_utility_player_strategy(game, player_index, strategy_index):\n",
    "    '''Helper function to return the possible utilities for a player strategy'''\n",
    "    payoff_matrix = get_payoff_matrix(game, player_index)\n",
    "    return payoff_matrix[strategy_index]"
   ]
  },
  {
   "cell_type": "code",
   "execution_count": null,
   "metadata": {
    "collapsed": true
   },
   "outputs": [],
   "source": [
    "def is_dominated(strategy_payoff, payoff_matrix):\n",
    "    '''\n",
    "    Check if strategy_payoff is dominated by any other strategy in payoff_matrix\n",
    "    Return a tuple (dominant_index, strict), where dominant_index is the index of  \n",
    "    a strategy which dominates strategy_payoff and strict is a Boolean to indicate\n",
    "    strict domination\n",
    "    '''\n",
    "    for compared_index, compared_strategy in enumerate(payoff_matrix):\n",
    "        strict_vector = strategy_payoff < compared_strategy\n",
    "        weak_vector = strategy_payoff <= compared_strategy\n",
    "        if sum(strict_vector) == len(strategy_payoff):\n",
    "            return compared_index, True\n",
    "        elif (sum(weak_vector) == len(strategy_payoff)) and (sum(strict_vector) > 0):\n",
    "            return compared_index, False        \n",
    "    return None, False"
   ]
  },
  {
   "cell_type": "code",
   "execution_count": null,
   "metadata": {
    "collapsed": true
   },
   "outputs": [],
   "source": [
    "def find_dominated_strategies(game, player_index):\n",
    "    '''Given a game and a player index (0 for row, 1 for column) found all the strategies which are dominated'''\n",
    "    player_payoff = get_payoff_matrix(game, player_index)\n",
    "    for strategy_index, strategy in enumerate(player_payoff):\n",
    "        dominance = is_dominated(strategy, np.delete(player_payoff, strategy_index, 0))\n",
    "        if dominance[0] is None:\n",
    "            print('For player {} strategy {} is not dominated by any other strategy'\n",
    "                  .format(player_index, strategy_index))\n",
    "        elif dominance[1]:\n",
    "            print('For player {} strategy {} is strictly dominated by strategy {}'\n",
    "                  .format(player_index, strategy_index, dominance[0]))\n",
    "        else:\n",
    "            print('For player {} strategy {} is weakly dominated by strategy {}'\n",
    "                  .format(player_index, strategy_index, dominance[0]))"
   ]
  },
  {
   "cell_type": "code",
   "execution_count": null,
   "metadata": {},
   "outputs": [],
   "source": [
    "game = prisoner_dilemma_game()\n",
    "game"
   ]
  },
  {
   "cell_type": "code",
   "execution_count": null,
   "metadata": {},
   "outputs": [],
   "source": [
    "for player in (0,1):\n",
    "    find_dominated_strategies(game, player)"
   ]
  },
  {
   "cell_type": "code",
   "execution_count": null,
   "metadata": {},
   "outputs": [],
   "source": [
    "game = modified_prisoner_dilemma_game()\n",
    "game"
   ]
  },
  {
   "cell_type": "code",
   "execution_count": null,
   "metadata": {},
   "outputs": [],
   "source": [
    "for player in (0,1):\n",
    "    find_dominated_strategies(game, player)"
   ]
  },
  {
   "cell_type": "markdown",
   "metadata": {},
   "source": [
    "### Iterated elimination of dominated strategies"
   ]
  },
  {
   "cell_type": "markdown",
   "metadata": {},
   "source": [
    "Algorithm to find a game solution through iterated elimination of (strictly) dominated strategies"
   ]
  },
  {
   "cell_type": "code",
   "execution_count": null,
   "metadata": {
    "collapsed": true
   },
   "outputs": [],
   "source": [
    "def subset_game(game, elimination_index, player_index):\n",
    "    '''Helper function to reduce a game given a elimination_index strategy to delete for player_index'''\n",
    "    new_row_payoff = np.delete(game.payoff_matrices[0], elimination_index, player_index)\n",
    "    new_column_payoff = np.delete(game.payoff_matrices[1], elimination_index, player_index)\n",
    "    return nashpy.Game(new_row_payoff, new_column_payoff)"
   ]
  },
  {
   "cell_type": "code",
   "execution_count": null,
   "metadata": {
    "collapsed": true
   },
   "outputs": [],
   "source": [
    "def iterated_elimination(game, strict=True):\n",
    "    '''Recursive implementation of iterated elimination of dominated strategies for both strict and weak dominance'''\n",
    "    if game.payoff_matrices[0].shape == (1,1):\n",
    "        print('The game is in minimal form: only one action available for both players')\n",
    "        return game\n",
    "    else:\n",
    "        for player in (0,1):\n",
    "            player_payoff = get_payoff_matrix(game, player)\n",
    "            for index, strategy in enumerate(player_payoff):\n",
    "                dominance = is_dominated(strategy, np.delete(player_payoff, index, 0))\n",
    "                if strict and dominance[1]:\n",
    "                    print('For player {} strategy {} is strictly dominated by strategy {} and will be removed\\n'\n",
    "                          .format(player, index, dominance[0]))\n",
    "                    new_game = subset_game(game, index, player)\n",
    "                    print('The reduced game is: ')\n",
    "                    print(new_game)\n",
    "                    print('********************************************************************************\\n')\n",
    "                    return iterated_elimination(new_game, strict)\n",
    "                elif not(strict) and not(dominance[0] is None):\n",
    "                    print('For player {} strategy {} is weakly dominated by strategy {} and will be removed\\n'\n",
    "                          .format(player, index, dominance[0]))\n",
    "                    new_game = subset_game(game, index, player)\n",
    "                    print('The reduced game is: ')\n",
    "                    print(new_game)\n",
    "                    print('********************************************************************************\\n')\n",
    "                    return iterated_elimination(new_game, strict)\n",
    "        print('No more reduction possible for this game')\n",
    "        return game"
   ]
  },
  {
   "cell_type": "code",
   "execution_count": null,
   "metadata": {},
   "outputs": [],
   "source": [
    "game = domination_elimination_game()\n",
    "game"
   ]
  },
  {
   "cell_type": "code",
   "execution_count": null,
   "metadata": {},
   "outputs": [],
   "source": [
    "iterated_elimination(game)"
   ]
  }
 ],
 "metadata": {
  "kernelspec": {
   "display_name": "Python 3",
   "language": "python",
   "name": "python3"
  },
  "language_info": {
   "codemirror_mode": {
    "name": "ipython",
    "version": 3
   },
   "file_extension": ".py",
   "mimetype": "text/x-python",
   "name": "python",
   "nbconvert_exporter": "python",
   "pygments_lexer": "ipython3",
   "version": "3.6.3"
  }
 },
 "nbformat": 4,
 "nbformat_minor": 2
}
